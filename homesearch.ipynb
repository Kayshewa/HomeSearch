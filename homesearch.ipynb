{
 "cells": [
  {
   "cell_type": "code",
   "execution_count": 12,
   "metadata": {},
   "outputs": [],
   "source": [
    "import requests\n",
    "import pandas as pd\n",
    "\n",
    "url = \"https://zillow-com1.p.rapidapi.com/property\"\n",
    "\n",
    "querystring = {\"zpid\":\"28761298\"}\n",
    "\n",
    "headers = {\n",
    "\t\"x-rapidapi-key\": \"287c0c69cbmsh41c226a35114322p1022a8jsn65498208884c\",\n",
    "\t\"x-rapidapi-host\": \"zillow-com1.p.rapidapi.com\"\n",
    "}\n",
    "\n",
    "response = requests.get(url, headers=headers, params=querystring)\n",
    "\n",
    "# Convert the response to a pandas dataframe\n",
    "data = response.json()\n",
    "\n",
    "# The data returned from Zillow's API is in nested JSON format.\n",
    "# To convert it into a flat dataframe, we need to flatten the dictionary.\n",
    "def flatten_json(y):\n",
    "    out = {}\n",
    "\n",
    "    def flatten(x, name=''):\n",
    "        if type(x) is dict:\n",
    "            for a in x:\n",
    "                flatten(x[a], name + a + '_')\n",
    "        elif type(x) is list:\n",
    "            i = 0\n",
    "            for a in x:\n",
    "                flatten(a, name + str(i) + '_')\n",
    "                i += 1\n",
    "        else:\n",
    "            out[name[:-1]] = x\n",
    "\n",
    "    flatten(y)\n",
    "    return out\n",
    "\n",
    "flat_data = flatten_json(data)\n",
    "df = pd.DataFrame([flat_data])\n",
    "\n",
    "# Get all column names from the pandas dataframe and output them into a csv file\n",
    "column_names = list(df.columns)\n",
    "pd.DataFrame(column_names).to_csv(\"zillowattributes.csv\", index=False, header=[\"Column Name\"])\n"
   ]
  },
  {
   "cell_type": "code",
   "execution_count": 33,
   "metadata": {},
   "outputs": [
    {
     "name": "stdout",
     "output_type": "stream",
     "text": [
      "        streetAddress  monthlyHoaFee  yearBuilt   latitude  longitude  \\\n",
      "0  45 N Lakeridge Cir            399       1985  30.175152  -95.50325   \n",
      "\n",
      "   livingAreaValue climate_floodSources_primary_insuranceRecommendation  \\\n",
      "0             1884                                       NOT_CRITICAL     \n",
      "\n",
      "  climate_floodSources_primary_riskScore_label  \\\n",
      "0                                      MINIMAL   \n",
      "\n",
      "   climate_floodSources_primary_riskScore_value  rentZestimate  \\\n",
      "0                                             1           2099   \n",
      "\n",
      "   propertyTaxRate timeOnZillow  \\\n",
      "0             1.53      18 days   \n",
      "\n",
      "                                                 url  zestimate      zpid  \\\n",
      "0  /homedetails/45-N-Lakeridge-Cir-Spring-TX-7738...     429300  28761298   \n",
      "\n",
      "   bedrooms  bathrooms zipcode   price homeStatus  \n",
      "0         3          3   77381  439000   FOR_SALE  \n"
     ]
    }
   ],
   "source": [
    "shortdf = df[['streetAddress', 'monthlyHoaFee', 'yearBuilt', 'latitude', 'longitude', 'livingAreaValue','climate_floodSources_primary_insuranceRecommendation','climate_floodSources_primary_riskScore_label', 'climate_floodSources_primary_riskScore_value', 'rentZestimate', 'propertyTaxRate', 'timeOnZillow', 'url', 'zestimate', 'zpid', 'bedrooms', 'bathrooms', 'zipcode', 'price', 'homeStatus']]\n",
    "print(shortdf)\n"
   ]
  }
 ],
 "metadata": {
  "kernelspec": {
   "display_name": "centralenv",
   "language": "python",
   "name": "python3"
  },
  "language_info": {
   "codemirror_mode": {
    "name": "ipython",
    "version": 3
   },
   "file_extension": ".py",
   "mimetype": "text/x-python",
   "name": "python",
   "nbconvert_exporter": "python",
   "pygments_lexer": "ipython3",
   "version": "3.11.9"
  }
 },
 "nbformat": 4,
 "nbformat_minor": 2
}
